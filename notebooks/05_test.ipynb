{
 "cells": [
  {
   "cell_type": "markdown",
   "metadata": {},
   "source": [
    "Run the models on the held-out test set."
   ]
  },
  {
   "cell_type": "code",
   "execution_count": 1,
   "metadata": {},
   "outputs": [],
   "source": [
    "import pandas as pd\n",
    "import numpy as np\n",
    "import matplotlib.pyplot as plt \n",
    "\n",
    "from sklearn.preprocessing import StandardScaler\n",
    "\n",
    "from sklearn.metrics import roc_auc_score\n",
    "import sklearn.metrics as metrics\n",
    "from sklearn.model_selection import  RandomizedSearchCV, GridSearchCV, cross_val_score\n",
    "\n",
    "from sklearn.linear_model import LogisticRegression\n",
    "from sklearn.ensemble import RandomForestClassifier\n",
    "import lightgbm as lgb\n",
    "import xgboost as xgb"
   ]
  },
  {
   "cell_type": "code",
   "execution_count": 2,
   "metadata": {},
   "outputs": [],
   "source": [
    "# load processed data\n",
    "train = pd.read_csv('../data/train_data_processed.csv')\n",
    "valid = pd.read_csv('../data/valid_data_processed.csv')\n",
    "test = pd.read_csv('../data/test_data_processed.csv')"
   ]
  },
  {
   "cell_type": "code",
   "execution_count": 3,
   "metadata": {},
   "outputs": [],
   "source": [
    "# create X and y\n",
    "\n",
    "X_train = train.drop(columns=['y'])\n",
    "y_train = train['y']\n",
    "\n",
    "X_valid = valid.drop(columns=['y'])\n",
    "y_valid = valid['y']\n",
    "\n",
    "X_test = test.drop(columns=['y'])\n",
    "y_test = test['y']"
   ]
  },
  {
   "cell_type": "code",
   "execution_count": 4,
   "metadata": {},
   "outputs": [
    {
     "name": "stdout",
     "output_type": "stream",
     "text": [
      "(28824, 62)\n",
      "(28824,)\n",
      "(6176, 62)\n",
      "(6176,)\n",
      "(6176, 62)\n",
      "(6176,)\n"
     ]
    }
   ],
   "source": [
    "print(X_train.shape)\n",
    "print(y_train.shape)\n",
    "print(X_valid.shape)\n",
    "print(y_valid.shape)\n",
    "print(X_test.shape)\n",
    "print(y_test.shape)"
   ]
  },
  {
   "cell_type": "markdown",
   "metadata": {},
   "source": [
    "## feature scaling"
   ]
  },
  {
   "cell_type": "code",
   "execution_count": 5,
   "metadata": {},
   "outputs": [],
   "source": [
    "scaler = StandardScaler()\n",
    "\n",
    "# fit on training data\n",
    "scaler.fit(X_train)\n",
    "\n",
    "# transform on train, valid, and test\n",
    "X_train_std = scaler.transform(X_train)\n",
    "X_valid_std = scaler.transform(X_valid)\n",
    "X_test_std = scaler.transform(X_test)"
   ]
  },
  {
   "cell_type": "markdown",
   "metadata": {},
   "source": [
    "## 1. Logistic Regression"
   ]
  },
  {
   "cell_type": "code",
   "execution_count": 6,
   "metadata": {},
   "outputs": [
    {
     "data": {
      "text/plain": [
       "LogisticRegression(C=0.1, class_weight='balanced', max_iter=200,\n",
       "                   random_state=2021, solver='newton-cg')"
      ]
     },
     "execution_count": 6,
     "metadata": {},
     "output_type": "execute_result"
    }
   ],
   "source": [
    "# define the model with parameters from `04_tune.ipynb`\n",
    "lr_model = LogisticRegression(\n",
    "    random_state=2021, \n",
    "    max_iter=200,\n",
    "    class_weight='balanced',\n",
    "    C=0.1,  \n",
    "    solver='newton-cg') \n",
    "\n",
    "# fit the model\n",
    "lr_model.fit(X_train_std, y_train)"
   ]
  },
  {
   "cell_type": "code",
   "execution_count": 7,
   "metadata": {},
   "outputs": [
    {
     "name": "stdout",
     "output_type": "stream",
     "text": [
      "Training ROC-AUC score of Logistic Regression model:  0.8015866888060914\n",
      "Validation ROC-AUC score of Logistic Regression model:  0.7912948885805665\n",
      "Test ROC-AUC score of Logistic Regression model:  0.7730886828144644\n"
     ]
    }
   ],
   "source": [
    "# predictions  \n",
    "y_predict_train = lr_model.predict_proba(X_train_std)\n",
    "y_predict_valid = lr_model.predict_proba(X_valid_std)\n",
    "y_predict_test = lr_model.predict_proba(X_test_std)\n",
    "\n",
    "# AUC scores\n",
    "train_score_lr = roc_auc_score(y_train, y_predict_train[:,1])\n",
    "valid_score_lr = roc_auc_score(y_valid, y_predict_valid[:,1])\n",
    "test_score_lr = roc_auc_score(y_test, y_predict_test[:,1])\n",
    "print(\"Training ROC-AUC score of Logistic Regression model: \", train_score_lr)\n",
    "print(\"Validation ROC-AUC score of Logistic Regression model: \", valid_score_lr)\n",
    "print(\"Test ROC-AUC score of Logistic Regression model: \", test_score_lr)"
   ]
  },
  {
   "cell_type": "code",
   "execution_count": 8,
   "metadata": {},
   "outputs": [
    {
     "data": {
      "image/png": "[encoded data removed]",
      "text/plain": [
       "<Figure size 432x288 with 1 Axes>"
      ]
     },
     "metadata": {
      "needs_background": "light"
     },
     "output_type": "display_data"
    }
   ],
   "source": [
    "# visualize the curve\n",
    "\n",
    "# calculate the fpr and tpr for all thresholds of the classification\n",
    "probs = lr_model.predict_proba(X_test_std)\n",
    "preds = probs[:,1]\n",
    "fpr, tpr, threshold = metrics.roc_curve(y_test, preds)\n",
    "roc_auc = metrics.auc(fpr, tpr)\n",
    "\n",
    "# plot\n",
    "plt.title('Logistic Regression ROC')\n",
    "plt.plot(fpr, tpr, 'b', label = 'AUC = %0.2f' % roc_auc)\n",
    "plt.legend(loc = 'lower right')\n",
    "plt.plot([0, 1], [0, 1],'r--')\n",
    "plt.xlim([0, 1])\n",
    "plt.ylim([0, 1])\n",
    "plt.ylabel('True Positive Rate')\n",
    "plt.xlabel('False Positive Rate')\n",
    "plt.show()"
   ]
  },
  {
   "cell_type": "markdown",
   "metadata": {},
   "source": [
    "## 2. LightGBM"
   ]
  },
  {
   "cell_type": "code",
   "execution_count": 9,
   "metadata": {},
   "outputs": [
    {
     "data": {
      "text/plain": [
       "LGBMClassifier(learning_rate=0.01, max_depth=11, n_estimators=900,\n",
       "               num_leaves=10, objective='binary', random_state=2021)"
      ]
     },
     "execution_count": 9,
     "metadata": {},
     "output_type": "execute_result"
    }
   ],
   "source": [
    "# define the model with parameters from `04_tune.ipynb`\n",
    "lgb_model = lgb.LGBMClassifier(\n",
    "    random_state=2021, \n",
    "    objective='binary',\n",
    "    num_leaves=10,\n",
    "    max_depth=11,\n",
    "    learning_rate=0.01,\n",
    "    n_estimators=900) \n",
    "\n",
    "# fit the model\n",
    "lgb_model.fit(X_train_std, y_train)"
   ]
  },
  {
   "cell_type": "code",
   "execution_count": 10,
   "metadata": {},
   "outputs": [
    {
     "name": "stdout",
     "output_type": "stream",
     "text": [
      "Training ROC-AUC score of LightGBM model:  0.8366473202026334\n",
      "Validation ROC-AUC score of LightGBM model:  0.8030689360926009\n",
      "Test ROC-AUC score of LightGBM model:  0.7804982196161281\n"
     ]
    }
   ],
   "source": [
    "# predictions  \n",
    "y_predict_train = lgb_model.predict_proba(X_train_std)\n",
    "y_predict_valid = lgb_model.predict_proba(X_valid_std)\n",
    "y_predict_test = lgb_model.predict_proba(X_test_std)\n",
    "\n",
    "# AUC scores\n",
    "train_score_lgb = roc_auc_score(y_train, y_predict_train[:,1])\n",
    "valid_score_lgb = roc_auc_score(y_valid, y_predict_valid[:,1])\n",
    "test_score_lgb = roc_auc_score(y_test, y_predict_test[:,1])\n",
    "print(\"Training ROC-AUC score of LightGBM model: \", train_score_lgb)\n",
    "print(\"Validation ROC-AUC score of LightGBM model: \", valid_score_lgb)\n",
    "print(\"Test ROC-AUC score of LightGBM model: \", test_score_lgb)"
   ]
  },
  {
   "cell_type": "code",
   "execution_count": 11,
   "metadata": {},
   "outputs": [
    {
     "data": {
      "image/png": "[encoded data removed]",
      "text/plain": [
       "<Figure size 432x288 with 1 Axes>"
      ]
     },
     "metadata": {
      "needs_background": "light"
     },
     "output_type": "display_data"
    }
   ],
   "source": [
    "# visualize the curve\n",
    "\n",
    "# calculate the fpr and tpr for all thresholds of the classification\n",
    "probs = lgb_model.predict_proba(X_test_std)\n",
    "preds = probs[:,1]\n",
    "fpr, tpr, threshold = metrics.roc_curve(y_test, preds)\n",
    "roc_auc = metrics.auc(fpr, tpr)\n",
    "\n",
    "# plot\n",
    "plt.title('LightGBM ROC')\n",
    "plt.plot(fpr, tpr, 'b', label = 'AUC = %0.2f' % roc_auc)\n",
    "plt.legend(loc = 'lower right')\n",
    "plt.plot([0, 1], [0, 1],'r--')\n",
    "plt.xlim([0, 1])\n",
    "plt.ylim([0, 1])\n",
    "plt.ylabel('True Positive Rate')\n",
    "plt.xlabel('False Positive Rate')\n",
    "plt.show()"
   ]
  },
  {
   "cell_type": "markdown",
   "metadata": {},
   "source": [
    "## 3. XGBoost"
   ]
  },
  {
   "cell_type": "code",
   "execution_count": 12,
   "metadata": {},
   "outputs": [
    {
     "name": "stderr",
     "output_type": "stream",
     "text": [
      "/Users/rachel/opt/anaconda3/lib/python3.7/site-packages/xgboost/sklearn.py:888: UserWarning: The use of label encoder in XGBClassifier is deprecated and will be removed in a future release. To remove this warning, do the following: 1) Pass option use_label_encoder=False when constructing XGBClassifier object; and 2) Encode your labels (y) as integers starting with 0, i.e. 0, 1, 2, ..., [num_class - 1].\n",
      "  warnings.warn(label_encoder_deprecation_msg, UserWarning)\n"
     ]
    },
    {
     "data": {
      "text/plain": [
       "XGBClassifier(base_score=0.5, booster='gbtree', colsample_bylevel=1,\n",
       "              colsample_bynode=1, colsample_bytree=0.6, gamma=0, gpu_id=-1,\n",
       "              importance_type='gain', interaction_constraints='',\n",
       "              learning_rate=0.025, max_delta_step=0, max_depth=10,\n",
       "              min_child_weight=7, missing=nan, monotone_constraints='()',\n",
       "              n_estimators=100, n_jobs=8, num_parallel_tree=1,\n",
       "              random_state=2021, reg_alpha=0, reg_lambda=1, scale_pos_weight=1,\n",
       "              subsample=0.7, tree_method='exact', validate_parameters=1,\n",
       "              verbosity=0)"
      ]
     },
     "execution_count": 12,
     "metadata": {},
     "output_type": "execute_result"
    }
   ],
   "source": [
    "# define the model with parameters from `04_tune.ipynb`\n",
    "xgb_model = xgb.XGBClassifier(\n",
    "    random_state=2021, \n",
    "    learning_rate=0.025,\n",
    "    n_estimators=100,\n",
    "    max_depth=10,\n",
    "    min_child_weight=7,\n",
    "    subsample=0.7,\n",
    "    colsample_bytree=0.6, \n",
    "    verbosity=0\n",
    ") \n",
    "\n",
    "# fit the model\n",
    "xgb_model.fit(X_train_std, y_train)"
   ]
  },
  {
   "cell_type": "code",
   "execution_count": 13,
   "metadata": {},
   "outputs": [
    {
     "name": "stdout",
     "output_type": "stream",
     "text": [
      "Training ROC-AUC score of XGBoost model:  0.854777113150471\n",
      "Validation ROC-AUC score of XGBoost model:  0.8074324350731832\n",
      "Test ROC-AUC score of XGBoost model:  0.7825368850918739\n"
     ]
    }
   ],
   "source": [
    "# predictions\n",
    "y_predict_train = xgb_model.predict_proba(X_train_std)\n",
    "y_predict_valid = xgb_model.predict_proba(X_valid_std)\n",
    "y_predict_test = xgb_model.predict_proba(X_test_std)\n",
    "\n",
    "# AUC scores\n",
    "train_score_xgb = roc_auc_score(y_train, y_predict_train[:,1])\n",
    "valid_score_xgb = roc_auc_score(y_valid, y_predict_valid[:,1])\n",
    "test_score_xgb = roc_auc_score(y_test, y_predict_test[:,1])\n",
    "print(\"Training ROC-AUC score of XGBoost model: \", train_score_xgb)\n",
    "print(\"Validation ROC-AUC score of XGBoost model: \", valid_score_xgb)\n",
    "print(\"Test ROC-AUC score of XGBoost model: \", test_score_xgb)"
   ]
  },
  {
   "cell_type": "code",
   "execution_count": 14,
   "metadata": {},
   "outputs": [
    {
     "data": {
      "image/png": "[encoded data removed]",
      "text/plain": [
       "<Figure size 432x288 with 1 Axes>"
      ]
     },
     "metadata": {
      "needs_background": "light"
     },
     "output_type": "display_data"
    }
   ],
   "source": [
    "# visualize the curve\n",
    "\n",
    "# calculate the fpr and tpr for all thresholds of the classification\n",
    "probs = xgb_model.predict_proba(X_test_std)\n",
    "preds = probs[:,1]\n",
    "fpr, tpr, threshold = metrics.roc_curve(y_test, preds)\n",
    "roc_auc = metrics.auc(fpr, tpr)\n",
    "\n",
    "# plot\n",
    "plt.title('XGBoost ROC')\n",
    "plt.plot(fpr, tpr, 'b', label = 'AUC = %0.2f' % roc_auc)\n",
    "plt.legend(loc = 'lower right')\n",
    "plt.plot([0, 1], [0, 1],'r--')\n",
    "plt.xlim([0, 1])\n",
    "plt.ylim([0, 1])\n",
    "plt.ylabel('True Positive Rate')\n",
    "plt.xlabel('False Positive Rate')\n",
    "plt.show()"
   ]
  },
  {
   "cell_type": "markdown",
   "metadata": {},
   "source": [
    "## 4. Random Forest"
   ]
  },
  {
   "cell_type": "code",
   "execution_count": 15,
   "metadata": {},
   "outputs": [
    {
     "data": {
      "text/plain": [
       "RandomForestClassifier(max_depth=10, max_features=15, n_estimators=500,\n",
       "                       random_state=2021)"
      ]
     },
     "execution_count": 15,
     "metadata": {},
     "output_type": "execute_result"
    }
   ],
   "source": [
    "# define the model with parameters from `04_tune.ipynb`\n",
    "rf_model = RandomForestClassifier(\n",
    "    random_state=2021, \n",
    "    n_estimators = 500, \n",
    "    max_features = 15,\n",
    "    max_depth = 10\n",
    ") \n",
    "\n",
    "# fit the model\n",
    "rf_model.fit(X_train_std, y_train)"
   ]
  },
  {
   "cell_type": "code",
   "execution_count": 16,
   "metadata": {},
   "outputs": [
    {
     "name": "stdout",
     "output_type": "stream",
     "text": [
      "Training ROC-AUC score of Random Forest model:  0.8752111136403355\n",
      "Validation ROC-AUC score of Random Forest model:  0.8051141552511416\n",
      "Test ROC-AUC score of Random Forest model:  0.7799844551257704\n"
     ]
    }
   ],
   "source": [
    "# predictions\n",
    "y_predict_train = rf_model.predict_proba(X_train_std)\n",
    "y_predict_valid = rf_model.predict_proba(X_valid_std)\n",
    "y_predict_test = rf_model.predict_proba(X_test_std)\n",
    "\n",
    "# AUC scores\n",
    "train_score_rf = roc_auc_score(y_train, y_predict_train[:,1])\n",
    "valid_score_rf = roc_auc_score(y_valid, y_predict_valid[:,1])\n",
    "test_score_rf = roc_auc_score(y_test, y_predict_test[:,1])\n",
    "print(\"Training ROC-AUC score of Random Forest model: \", train_score_rf)\n",
    "print(\"Validation ROC-AUC score of Random Forest model: \", valid_score_rf)\n",
    "print(\"Test ROC-AUC score of Random Forest model: \", test_score_rf)"
   ]
  },
  {
   "cell_type": "code",
   "execution_count": 17,
   "metadata": {},
   "outputs": [
    {
     "data": {
      "image/png": "[encoded data removed]",
      "text/plain": [
       "<Figure size 432x288 with 1 Axes>"
      ]
     },
     "metadata": {
      "needs_background": "light"
     },
     "output_type": "display_data"
    }
   ],
   "source": [
    "# visualize the curve\n",
    "\n",
    "# calculate the fpr and tpr for all thresholds of the classification\n",
    "probs = rf_model.predict_proba(X_test_std)\n",
    "preds = probs[:,1]\n",
    "fpr, tpr, threshold = metrics.roc_curve(y_test, preds)\n",
    "roc_auc = metrics.auc(fpr, tpr)\n",
    "\n",
    "# plot\n",
    "plt.title('Random Forest ROC')\n",
    "plt.plot(fpr, tpr, 'b', label = 'AUC = %0.2f' % roc_auc)\n",
    "plt.legend(loc = 'lower right')\n",
    "plt.plot([0, 1], [0, 1],'r--')\n",
    "plt.xlim([0, 1])\n",
    "plt.ylim([0, 1])\n",
    "plt.ylabel('True Positive Rate')\n",
    "plt.xlabel('False Positive Rate')\n",
    "plt.show()"
   ]
  },
  {
   "cell_type": "markdown",
   "metadata": {},
   "source": [
    "## summary"
   ]
  },
  {
   "cell_type": "code",
   "execution_count": 18,
   "metadata": {},
   "outputs": [
    {
     "data": {
      "text/html": [
       "<div>\n",
       "<style scoped>\n",
       "    .dataframe tbody tr th:only-of-type {\n",
       "        vertical-align: middle;\n",
       "    }\n",
       "\n",
       "    .dataframe tbody tr th {\n",
       "        vertical-align: top;\n",
       "    }\n",
       "\n",
       "    .dataframe thead th {\n",
       "        text-align: right;\n",
       "    }\n",
       "</style>\n",
       "<table border=\"1\" class=\"dataframe\">\n",
       "  <thead>\n",
       "    <tr style=\"text-align: right;\">\n",
       "      <th></th>\n",
       "      <th>model</th>\n",
       "      <th>Train ROC-AUC score</th>\n",
       "      <th>Validation ROC-AUC score</th>\n",
       "      <th>Test ROC-AUC score</th>\n",
       "    </tr>\n",
       "  </thead>\n",
       "  <tbody>\n",
       "    <tr>\n",
       "      <th>0</th>\n",
       "      <td>Logistic Regression</td>\n",
       "      <td>0.801587</td>\n",
       "      <td>0.791295</td>\n",
       "      <td>0.773089</td>\n",
       "    </tr>\n",
       "    <tr>\n",
       "      <th>1</th>\n",
       "      <td>LightGBM</td>\n",
       "      <td>0.836647</td>\n",
       "      <td>0.803069</td>\n",
       "      <td>0.780498</td>\n",
       "    </tr>\n",
       "    <tr>\n",
       "      <th>2</th>\n",
       "      <td>XGBoost</td>\n",
       "      <td>0.854777</td>\n",
       "      <td>0.807432</td>\n",
       "      <td>0.782537</td>\n",
       "    </tr>\n",
       "    <tr>\n",
       "      <th>3</th>\n",
       "      <td>Random Forest</td>\n",
       "      <td>0.875211</td>\n",
       "      <td>0.805114</td>\n",
       "      <td>0.779984</td>\n",
       "    </tr>\n",
       "  </tbody>\n",
       "</table>\n",
       "</div>"
      ],
      "text/plain": [
       "                 model  Train ROC-AUC score  Validation ROC-AUC score  \\\n",
       "0  Logistic Regression             0.801587                  0.791295   \n",
       "1             LightGBM             0.836647                  0.803069   \n",
       "2              XGBoost             0.854777                  0.807432   \n",
       "3        Random Forest             0.875211                  0.805114   \n",
       "\n",
       "   Test ROC-AUC score  \n",
       "0            0.773089  \n",
       "1            0.780498  \n",
       "2            0.782537  \n",
       "3            0.779984  "
      ]
     },
     "execution_count": 18,
     "metadata": {},
     "output_type": "execute_result"
    }
   ],
   "source": [
    "summary = {\n",
    "    'model':['Logistic Regression', 'LightGBM', 'XGBoost', 'Random Forest'],\n",
    "    'Train ROC-AUC score':[train_score_lr, train_score_lgb, train_score_xgb, train_score_rf],\n",
    "    'Validation ROC-AUC score':[valid_score_lr, valid_score_lgb, valid_score_xgb, valid_score_rf],\n",
    "    'Test ROC-AUC score':[test_score_lr, test_score_lgb, test_score_xgb, test_score_rf]\n",
    "}\n",
    "\n",
    "pd.DataFrame(summary)"
   ]
  },
  {
   "cell_type": "markdown",
   "metadata": {},
   "source": [
    "## results\n",
    "- The Random Forest model is not the best model of this group. It doesn't have the highest test score, and it overfits the most.\n",
    "- It's debatable which of the remaining 3 models could be considered the best one. While XGBoost has the highest test score, it also overfits more than LightGBM or Logistic Regression."
   ]
  },
  {
   "cell_type": "code",
   "execution_count": null,
   "metadata": {},
   "outputs": [],
   "source": []
  }
 ],
 "metadata": {
  "kernelspec": {
   "display_name": "Python 3",
   "language": "python",
   "name": "python3"
  },
  "language_info": {
   "codemirror_mode": {
    "name": "ipython",
    "version": 3
   },
   "file_extension": ".py",
   "mimetype": "text/x-python",
   "name": "python",
   "nbconvert_exporter": "python",
   "pygments_lexer": "ipython3",
   "version": "3.7.6"
  }
 },
 "nbformat": 4,
 "nbformat_minor": 4
}
