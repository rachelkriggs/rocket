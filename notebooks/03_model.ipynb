{
 "cells": [
  {
   "cell_type": "markdown",
   "metadata": {},
   "source": [
    "Test several models using default parameters."
   ]
  },
  {
   "cell_type": "code",
   "execution_count": 1,
   "metadata": {},
   "outputs": [],
   "source": [
    "import pandas as pd\n",
    "import numpy as np\n",
    "import matplotlib.pyplot as plt \n",
    "\n",
    "from sklearn.preprocessing import StandardScaler\n",
    "\n",
    "from sklearn.metrics import roc_auc_score\n",
    "import sklearn.metrics as metrics\n",
    "\n",
    "from sklearn.linear_model import LogisticRegression\n",
    "from sklearn.ensemble import RandomForestClassifier\n",
    "import lightgbm as lgb\n",
    "import xgboost as xgb\n",
    "from sklearn.svm import SVC\n",
    "from sklearn.linear_model import SGDClassifier\n",
    "from sklearn.calibration import CalibratedClassifierCV\n",
    "from sklearn.neighbors import KNeighborsClassifier"
   ]
  },
  {
   "cell_type": "code",
   "execution_count": 2,
   "metadata": {},
   "outputs": [],
   "source": [
    "# load processed train and validation data\n",
    "train = pd.read_csv('../data/train_data_processed.csv')\n",
    "valid = pd.read_csv('../data/valid_data_processed.csv')"
   ]
  },
  {
   "cell_type": "code",
   "execution_count": 3,
   "metadata": {},
   "outputs": [],
   "source": [
    "# create X and y\n",
    "\n",
    "X_train = train.drop(columns=['y'])\n",
    "y_train = train['y']\n",
    "\n",
    "X_valid = valid.drop(columns=['y'])\n",
    "y_valid = valid['y']"
   ]
  },
  {
   "cell_type": "code",
   "execution_count": 4,
   "metadata": {},
   "outputs": [
    {
     "name": "stdout",
     "output_type": "stream",
     "text": [
      "(28824, 62)\n",
      "(28824,)\n",
      "(6176, 62)\n",
      "(6176,)\n"
     ]
    }
   ],
   "source": [
    "print(X_train.shape)\n",
    "print(y_train.shape)\n",
    "print(X_valid.shape)\n",
    "print(y_valid.shape)"
   ]
  },
  {
   "cell_type": "markdown",
   "metadata": {},
   "source": [
    "## feature scaling"
   ]
  },
  {
   "cell_type": "code",
   "execution_count": 5,
   "metadata": {},
   "outputs": [],
   "source": [
    "scaler = StandardScaler()\n",
    "\n",
    "# fit on training data\n",
    "scaler.fit(X_train)\n",
    "\n",
    "# transform on train and valid\n",
    "X_train_std = scaler.transform(X_train)\n",
    "X_valid_std = scaler.transform(X_valid)"
   ]
  },
  {
   "cell_type": "markdown",
   "metadata": {},
   "source": [
    "## baseline model - Logistic Regression"
   ]
  },
  {
   "cell_type": "code",
   "execution_count": 6,
   "metadata": {},
   "outputs": [
    {
     "data": {
      "text/plain": [
       "LogisticRegression(random_state=2021)"
      ]
     },
     "execution_count": 6,
     "metadata": {},
     "output_type": "execute_result"
    }
   ],
   "source": [
    "# starting with default parameters\n",
    "lr = LogisticRegression(random_state=2021)\n",
    "\n",
    "# fit the model\n",
    "lr.fit(X_train_std, y_train)"
   ]
  },
  {
   "cell_type": "code",
   "execution_count": 7,
   "metadata": {},
   "outputs": [],
   "source": [
    "# predictions\n",
    "y_predict_train = lr.predict_proba(X_train_std)\n",
    "y_predict_valid = lr.predict_proba(X_valid_std)"
   ]
  },
  {
   "cell_type": "code",
   "execution_count": 8,
   "metadata": {},
   "outputs": [
    {
     "name": "stdout",
     "output_type": "stream",
     "text": [
      "Training ROC-AUC score of baseline Logistic Regression model:  0.799661510473242\n",
      "Validation ROC-AUC score of baseline Logistic Regression model:  0.7900684605814263\n"
     ]
    }
   ],
   "source": [
    "# AUC scores\n",
    "train_score_lr = roc_auc_score(y_train, y_predict_train[:,1])\n",
    "valid_score_lr = roc_auc_score(y_valid, y_predict_valid[:,1])\n",
    "print(\"Training ROC-AUC score of baseline Logistic Regression model: \", train_score_lr)\n",
    "print(\"Validation ROC-AUC score of baseline Logistic Regression model: \", valid_score_lr)"
   ]
  },
  {
   "cell_type": "markdown",
   "metadata": {},
   "source": [
    "### observations:\n",
    "Given that the [original paper](https://github.com/rachelkriggs/rocket/blob/main/docs/bank_telemarketing.pdf) regarding this problem stated that it achieved a best AUC score of 0.8, this results seems quite good for a simple baseline model with no hyperparameter tuning."
   ]
  },
  {
   "cell_type": "markdown",
   "metadata": {},
   "source": [
    "## Random Forest"
   ]
  },
  {
   "cell_type": "code",
   "execution_count": 9,
   "metadata": {},
   "outputs": [
    {
     "data": {
      "text/plain": [
       "RandomForestClassifier(random_state=2021)"
      ]
     },
     "execution_count": 9,
     "metadata": {},
     "output_type": "execute_result"
    }
   ],
   "source": [
    "# starting with default parameters\n",
    "rf = RandomForestClassifier(random_state=2021)\n",
    "\n",
    "# fit the model\n",
    "rf.fit(X_train_std, y_train)"
   ]
  },
  {
   "cell_type": "code",
   "execution_count": 10,
   "metadata": {},
   "outputs": [],
   "source": [
    "# predictions\n",
    "y_predict_train = rf.predict_proba(X_train_std)\n",
    "y_predict_valid = rf.predict_proba(X_valid_std)"
   ]
  },
  {
   "cell_type": "code",
   "execution_count": 11,
   "metadata": {},
   "outputs": [
    {
     "name": "stdout",
     "output_type": "stream",
     "text": [
      "Training ROC-AUC score of Random Forest model:  0.9998503672391786\n",
      "Validation ROC-AUC score of Random Forest model:  0.7764130824197656\n"
     ]
    }
   ],
   "source": [
    "# AUC scores\n",
    "train_score_rf = roc_auc_score(y_train, y_predict_train[:,1])\n",
    "valid_score_rf = roc_auc_score(y_valid, y_predict_valid[:,1])\n",
    "print(\"Training ROC-AUC score of Random Forest model: \", train_score_rf)\n",
    "print(\"Validation ROC-AUC score of Random Forest model: \", valid_score_rf)"
   ]
  },
  {
   "cell_type": "markdown",
   "metadata": {},
   "source": [
    "### observations:\n",
    "This model is clearly overfitting."
   ]
  },
  {
   "cell_type": "markdown",
   "metadata": {},
   "source": [
    "## LightGBM"
   ]
  },
  {
   "cell_type": "code",
   "execution_count": 12,
   "metadata": {},
   "outputs": [
    {
     "data": {
      "text/plain": [
       "LGBMClassifier(objective='binary', random_state=2021)"
      ]
     },
     "execution_count": 12,
     "metadata": {},
     "output_type": "execute_result"
    }
   ],
   "source": [
    "# starting with default parameters\n",
    "lgbm = lgb.LGBMClassifier(random_state = 2021, objective='binary')\n",
    "\n",
    "# fit the model\n",
    "lgbm.fit(X_train_std, y_train)"
   ]
  },
  {
   "cell_type": "code",
   "execution_count": 13,
   "metadata": {},
   "outputs": [],
   "source": [
    "# predictions\n",
    "y_predict_train = lgbm.predict_proba(X_train_std)\n",
    "y_predict_valid = lgbm.predict_proba(X_valid_std)"
   ]
  },
  {
   "cell_type": "code",
   "execution_count": 14,
   "metadata": {},
   "outputs": [
    {
     "name": "stdout",
     "output_type": "stream",
     "text": [
      "Training ROC-AUC score of LightGBM model:  0.8926429127437405\n",
      "Validation ROC-AUC score of LightGBM model:  0.8038074765989878\n"
     ]
    }
   ],
   "source": [
    "# AUC scores\n",
    "train_score_lgb = roc_auc_score(y_train, y_predict_train[:,1])\n",
    "valid_score_lgb = roc_auc_score(y_valid, y_predict_valid[:,1])\n",
    "print(\"Training ROC-AUC score of LightGBM model: \", train_score_lgb)\n",
    "print(\"Validation ROC-AUC score of LightGBM model: \", valid_score_lgb)"
   ]
  },
  {
   "cell_type": "markdown",
   "metadata": {},
   "source": [
    "## XGBoost"
   ]
  },
  {
   "cell_type": "code",
   "execution_count": 15,
   "metadata": {},
   "outputs": [
    {
     "name": "stderr",
     "output_type": "stream",
     "text": [
      "/Users/rachel/opt/anaconda3/lib/python3.7/site-packages/xgboost/sklearn.py:888: UserWarning: The use of label encoder in XGBClassifier is deprecated and will be removed in a future release. To remove this warning, do the following: 1) Pass option use_label_encoder=False when constructing XGBClassifier object; and 2) Encode your labels (y) as integers starting with 0, i.e. 0, 1, 2, ..., [num_class - 1].\n",
      "  warnings.warn(label_encoder_deprecation_msg, UserWarning)\n"
     ]
    },
    {
     "data": {
      "text/plain": [
       "XGBClassifier(base_score=0.5, booster='gbtree', colsample_bylevel=1,\n",
       "              colsample_bynode=1, colsample_bytree=1, gamma=0, gpu_id=-1,\n",
       "              importance_type='gain', interaction_constraints='',\n",
       "              learning_rate=0.300000012, max_delta_step=0, max_depth=6,\n",
       "              min_child_weight=1, missing=nan, monotone_constraints='()',\n",
       "              n_estimators=100, n_jobs=8, num_parallel_tree=1,\n",
       "              random_state=2021, reg_alpha=0, reg_lambda=1, scale_pos_weight=1,\n",
       "              subsample=1, tree_method='exact', validate_parameters=1,\n",
       "              verbosity=0)"
      ]
     },
     "execution_count": 15,
     "metadata": {},
     "output_type": "execute_result"
    }
   ],
   "source": [
    "# starting with default parameters\n",
    "xgbc = xgb.XGBClassifier(random_state = 2021, verbosity=0)\n",
    "\n",
    "# fit the model\n",
    "xgbc.fit(X_train_std, y_train)"
   ]
  },
  {
   "cell_type": "code",
   "execution_count": 16,
   "metadata": {},
   "outputs": [],
   "source": [
    "# predictions\n",
    "y_predict_train = xgbc.predict_proba(X_train_std)\n",
    "y_predict_valid = xgbc.predict_proba(X_valid_std)"
   ]
  },
  {
   "cell_type": "code",
   "execution_count": 17,
   "metadata": {},
   "outputs": [
    {
     "name": "stdout",
     "output_type": "stream",
     "text": [
      "Training ROC-AUC score of XGBoost model:  0.914232576542531\n",
      "Validation ROC-AUC score of XGBoost model:  0.784485438284512\n"
     ]
    }
   ],
   "source": [
    "# AUC scores\n",
    "train_score_xgb = roc_auc_score(y_train, y_predict_train[:,1])\n",
    "valid_score_xgb = roc_auc_score(y_valid, y_predict_valid[:,1])\n",
    "print(\"Training ROC-AUC score of XGBoost model: \", train_score_xgb)\n",
    "print(\"Validation ROC-AUC score of XGBoost model: \", valid_score_xgb)"
   ]
  },
  {
   "cell_type": "markdown",
   "metadata": {},
   "source": [
    "## Support Vector Machine"
   ]
  },
  {
   "cell_type": "markdown",
   "metadata": {},
   "source": [
    "### RBF Kernel SVM (see the [scikit-learn documentation](https://scikit-learn.org/stable/modules/svm.html#classification))"
   ]
  },
  {
   "cell_type": "code",
   "execution_count": 18,
   "metadata": {},
   "outputs": [
    {
     "data": {
      "text/plain": [
       "SVC(probability=True, random_state=2021)"
      ]
     },
     "execution_count": 18,
     "metadata": {},
     "output_type": "execute_result"
    }
   ],
   "source": [
    "# starting with default parameters\n",
    "svcm = SVC(random_state = 2021, probability=True)\n",
    "\n",
    "# fit the model\n",
    "svcm.fit(X_train_std, y_train)"
   ]
  },
  {
   "cell_type": "code",
   "execution_count": 19,
   "metadata": {},
   "outputs": [],
   "source": [
    "# predictions\n",
    "y_predict_train = svcm.predict_proba(X_train_std)\n",
    "y_predict_valid = svcm.predict_proba(X_valid_std)"
   ]
  },
  {
   "cell_type": "code",
   "execution_count": 20,
   "metadata": {},
   "outputs": [
    {
     "name": "stdout",
     "output_type": "stream",
     "text": [
      "Training ROC-AUC score of Support Vector Machine model:  0.9070801942564497\n",
      "Validation ROC-AUC score of Support Vector Machine model:  0.7153376455031626\n"
     ]
    }
   ],
   "source": [
    "# AUC scores\n",
    "train_score_svc = roc_auc_score(y_train, y_predict_train[:,1])\n",
    "valid_score_svc = roc_auc_score(y_valid, y_predict_valid[:,1])\n",
    "print(\"Training ROC-AUC score of Support Vector Machine model: \", train_score_svc)\n",
    "print(\"Validation ROC-AUC score of Support Vector Machine model: \", valid_score_svc)"
   ]
  },
  {
   "cell_type": "markdown",
   "metadata": {},
   "source": [
    "### observations:\n",
    "- The above model was quite slow to run, has a poor score compared to some of the others tested thus far, and is overfitting a fair bit."
   ]
  },
  {
   "cell_type": "markdown",
   "metadata": {},
   "source": [
    "### Linear SVM (see the [scikit-learn documentation](https://scikit-learn.org/stable/modules/svm.html#classification))"
   ]
  },
  {
   "cell_type": "code",
   "execution_count": 21,
   "metadata": {},
   "outputs": [
    {
     "data": {
      "text/plain": [
       "CalibratedClassifierCV(base_estimator=SGDClassifier(random_state=2021))"
      ]
     },
     "execution_count": 21,
     "metadata": {},
     "output_type": "execute_result"
    }
   ],
   "source": [
    "# starting with default parameters\n",
    "lsvc = SGDClassifier(random_state = 2021)\n",
    "\n",
    "# calibrate the model so we can get probability estimates\n",
    "clsvc = CalibratedClassifierCV(lsvc)\n",
    "\n",
    "# fit the model\n",
    "clsvc.fit(X_train_std, y_train)"
   ]
  },
  {
   "cell_type": "code",
   "execution_count": 22,
   "metadata": {},
   "outputs": [],
   "source": [
    "# predictions\n",
    "y_predict_train = clsvc.predict_proba(X_train_std)\n",
    "y_predict_valid = clsvc.predict_proba(X_valid_std)"
   ]
  },
  {
   "cell_type": "code",
   "execution_count": 23,
   "metadata": {},
   "outputs": [
    {
     "name": "stdout",
     "output_type": "stream",
     "text": [
      "Training ROC-AUC score of Linear SVM model:  0.7759044034878305\n",
      "Validation ROC-AUC score of Linear SVM model:  0.7603673812361988\n"
     ]
    }
   ],
   "source": [
    "# AUC scores\n",
    "train_score_lsvc = roc_auc_score(y_train, y_predict_train[:,1])\n",
    "valid_score_lsvc = roc_auc_score(y_valid, y_predict_valid[:,1])\n",
    "print(\"Training ROC-AUC score of Linear SVM model: \", train_score_lsvc)\n",
    "print(\"Validation ROC-AUC score of Linear SVM model: \", valid_score_lsvc)"
   ]
  },
  {
   "cell_type": "markdown",
   "metadata": {},
   "source": [
    "## k-Nearest Neighbor"
   ]
  },
  {
   "cell_type": "code",
   "execution_count": 24,
   "metadata": {},
   "outputs": [
    {
     "data": {
      "text/plain": [
       "KNeighborsClassifier()"
      ]
     },
     "execution_count": 24,
     "metadata": {},
     "output_type": "execute_result"
    }
   ],
   "source": [
    "# starting with default parameters\n",
    "knn = KNeighborsClassifier()\n",
    "                          \n",
    "# fit the model\n",
    "knn.fit(X_train_std, y_train)"
   ]
  },
  {
   "cell_type": "code",
   "execution_count": 25,
   "metadata": {},
   "outputs": [],
   "source": [
    "# predictions\n",
    "y_predict_train = knn.predict_proba(X_train_std)\n",
    "y_predict_valid = knn.predict_proba(X_valid_std)"
   ]
  },
  {
   "cell_type": "code",
   "execution_count": 26,
   "metadata": {},
   "outputs": [
    {
     "name": "stdout",
     "output_type": "stream",
     "text": [
      "Training ROC-AUC score of k-Nearest Neighbor model:  0.9257271384997878\n",
      "Validation ROC-AUC score of k-Nearest Neighbor model:  0.7269578358379093\n"
     ]
    }
   ],
   "source": [
    "# AUC scores\n",
    "train_score_knn = roc_auc_score(y_train, y_predict_train[:,1])\n",
    "valid_score_knn = roc_auc_score(y_valid, y_predict_valid[:,1])\n",
    "print(\"Training ROC-AUC score of k-Nearest Neighbor model: \", train_score_knn)\n",
    "print(\"Validation ROC-AUC score of k-Nearest Neighbor model: \", valid_score_knn)"
   ]
  },
  {
   "cell_type": "markdown",
   "metadata": {},
   "source": [
    "## summary\n",
    "of initial models tested with default parameters"
   ]
  },
  {
   "cell_type": "code",
   "execution_count": 27,
   "metadata": {},
   "outputs": [
    {
     "data": {
      "text/html": [
       "<div>\n",
       "<style scoped>\n",
       "    .dataframe tbody tr th:only-of-type {\n",
       "        vertical-align: middle;\n",
       "    }\n",
       "\n",
       "    .dataframe tbody tr th {\n",
       "        vertical-align: top;\n",
       "    }\n",
       "\n",
       "    .dataframe thead th {\n",
       "        text-align: right;\n",
       "    }\n",
       "</style>\n",
       "<table border=\"1\" class=\"dataframe\">\n",
       "  <thead>\n",
       "    <tr style=\"text-align: right;\">\n",
       "      <th></th>\n",
       "      <th>model</th>\n",
       "      <th>Train ROC-AUC score</th>\n",
       "      <th>Validation ROC-AUC score</th>\n",
       "    </tr>\n",
       "  </thead>\n",
       "  <tbody>\n",
       "    <tr>\n",
       "      <th>0</th>\n",
       "      <td>Logistic Regression</td>\n",
       "      <td>0.799662</td>\n",
       "      <td>0.790068</td>\n",
       "    </tr>\n",
       "    <tr>\n",
       "      <th>1</th>\n",
       "      <td>Random Forest</td>\n",
       "      <td>0.999850</td>\n",
       "      <td>0.776413</td>\n",
       "    </tr>\n",
       "    <tr>\n",
       "      <th>2</th>\n",
       "      <td>LightGBM</td>\n",
       "      <td>0.892643</td>\n",
       "      <td>0.803807</td>\n",
       "    </tr>\n",
       "    <tr>\n",
       "      <th>3</th>\n",
       "      <td>XGBoost</td>\n",
       "      <td>0.914233</td>\n",
       "      <td>0.784485</td>\n",
       "    </tr>\n",
       "    <tr>\n",
       "      <th>4</th>\n",
       "      <td>RBF Kernel SVM</td>\n",
       "      <td>0.907080</td>\n",
       "      <td>0.715338</td>\n",
       "    </tr>\n",
       "    <tr>\n",
       "      <th>5</th>\n",
       "      <td>Linear SVM</td>\n",
       "      <td>0.775904</td>\n",
       "      <td>0.760367</td>\n",
       "    </tr>\n",
       "    <tr>\n",
       "      <th>6</th>\n",
       "      <td>k-Nearest Neighbor</td>\n",
       "      <td>0.925727</td>\n",
       "      <td>0.726958</td>\n",
       "    </tr>\n",
       "  </tbody>\n",
       "</table>\n",
       "</div>"
      ],
      "text/plain": [
       "                 model  Train ROC-AUC score  Validation ROC-AUC score\n",
       "0  Logistic Regression             0.799662                  0.790068\n",
       "1        Random Forest             0.999850                  0.776413\n",
       "2             LightGBM             0.892643                  0.803807\n",
       "3              XGBoost             0.914233                  0.784485\n",
       "4       RBF Kernel SVM             0.907080                  0.715338\n",
       "5           Linear SVM             0.775904                  0.760367\n",
       "6   k-Nearest Neighbor             0.925727                  0.726958"
      ]
     },
     "execution_count": 27,
     "metadata": {},
     "output_type": "execute_result"
    }
   ],
   "source": [
    "summary = {\n",
    "    'model':['Logistic Regression', 'Random Forest', 'LightGBM', 'XGBoost', 'RBF Kernel SVM', 'Linear SVM', 'k-Nearest Neighbor'],\n",
    "    'Train ROC-AUC score':[train_score_lr, train_score_rf, train_score_lgb, train_score_xgb, train_score_svc, train_score_lsvc, train_score_knn],\n",
    "    'Validation ROC-AUC score':[valid_score_lr, valid_score_rf, valid_score_lgb, valid_score_xgb, valid_score_svc, valid_score_lsvc, valid_score_knn]\n",
    "}\n",
    "\n",
    "pd.DataFrame(summary)"
   ]
  },
  {
   "cell_type": "markdown",
   "metadata": {},
   "source": [
    "### observations:\n",
    "From this intial run of models, candidates for further tuning are: \n",
    "\n",
    "- Logistic Regression\n",
    "- LightGBM\n",
    "- XGBoost\n",
    "- Random Forest"
   ]
  },
  {
   "cell_type": "code",
   "execution_count": null,
   "metadata": {},
   "outputs": [],
   "source": []
  }
 ],
 "metadata": {
  "kernelspec": {
   "display_name": "Python 3",
   "language": "python",
   "name": "python3"
  },
  "language_info": {
   "codemirror_mode": {
    "name": "ipython",
    "version": 3
   },
   "file_extension": ".py",
   "mimetype": "text/x-python",
   "name": "python",
   "nbconvert_exporter": "python",
   "pygments_lexer": "ipython3",
   "version": "3.7.6"
  }
 },
 "nbformat": 4,
 "nbformat_minor": 4
}
